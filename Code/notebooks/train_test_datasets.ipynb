{
 "cells": [
  {
   "attachments": {},
   "cell_type": "markdown",
   "metadata": {
    "collapsed": false
   },
   "source": [
    "# Create the dataset"
   ]
  },
  {
   "cell_type": "code",
   "execution_count": 1,
   "metadata": {},
   "outputs": [],
   "source": [
    "import os\n",
    "import json\n",
    "import numpy as np"
   ]
  },
  {
   "cell_type": "code",
   "execution_count": 57,
   "metadata": {},
   "outputs": [],
   "source": [
    "def clean_list(lst):\n",
    "    new_lst = []\n",
    "    for i in lst:\n",
    "        if i is None:\n",
    "            new_lst.append(np.nan)\n",
    "        else:\n",
    "            new_lst.append(i)\n",
    "    return new_lst\n",
    "\n",
    "def apply_averaging_window(lst):\n",
    "    averaged_lst = []\n",
    "    for i in range(len(lst) - 2):\n",
    "        window = lst[i:i+3]  # Extract a window of 3 elements\n",
    "        if None in window:\n",
    "            averaged_lst.append(0.0)  # Append None if any element in the window is None\n",
    "        else:\n",
    "            average = sum(window) / len(window)  # Calculate the average\n",
    "            averaged_lst.append(average)\n",
    "    return averaged_lst"
   ]
  },
  {
   "cell_type": "code",
   "execution_count": null,
   "metadata": {},
   "outputs": [],
   "source": [
    "simulation_data_dir = '/Path/To/Base/Simulation/Data/'\n",
    "\n",
    "# Iterate throught folders (each simulation)\n",
    "for folder_name in os.listdir(simulation_data_dir):\n",
    "    folder_dir = os.path.join(simulation_data_dir, folder_name)\n",
    "\n",
    "    # Read the corresponding JSON file\n",
    "    json_file_dir = os.path.join(folder_dir, f'{folder_name}.json')\n",
    "\n",
    "    # Read JSON file\n",
    "    with open(json_file_dir, 'r') as json_file:\n",
    "        json_data = json.load(json_file)\n",
    "\n",
    "    # SET UP VERTICAL DATA\n",
    "    # Construct scores list\n",
    "    vertical_scores   = json_data['down_verification_confidence'][::-1] + json_data['center_verification_confidence'] + json_data['up_verification_confidence']\n",
    "    \n",
    "    # Clean, average and derivative\n",
    "    vertical_scores     = clean_list(vertical_scores)\n",
    "    vertical_avg_scores = apply_averaging_window(vertical_scores)\n",
    "    vertical_dev_scores = np.gradient(vertical_avg_scores)\n",
    "    # Append a None value at the beginning and the end the array. To keep the same length\n",
    "    vertical_dev_scores = np.insert(vertical_dev_scores, 0, np.nan)\n",
    "    vertical_dev_scores = np.append(vertical_dev_scores, np.nan)\n",
    "\n",
    "    # List of images\n",
    "    vertical_images   = []\n",
    "\n",
    "    for i in range(len(vertical_scores)):\n",
    "        if i < len(vertical_scores)//2:\n",
    "            img_path = os.path.join(folder_dir, f'{folder_name}_down_{14-i}.jpg')\n",
    "        elif i == len(vertical_scores)//2:\n",
    "            img_path = os.path.join(folder_dir, f'{folder_name}_center_{0}.jpg')\n",
    "        else:\n",
    "            img_path = os.path.join(folder_dir, f'{folder_name}_up_{i-16}.jpg')\n",
    "\n",
    "        if os.path.exists(img_path):\n",
    "            vertical_images.append(img_path)\n",
    "        else:\n",
    "            vertical_images.append(np.nan)\n",
    "\n",
    "    # SET UP HORIZONTAL DATA\n",
    "    # Construct scores list\n",
    "    horizontal_scores = json_data['left_verification_confidence'][::-1] + json_data['center_verification_confidence'] + json_data['right_verification_confidence']\n",
    "\n",
    "    horizontal_scores     = clean_list(horizontal_scores)\n",
    "    horizontal_avg_scores = apply_averaging_window(horizontal_scores)\n",
    "    horizontal_dev_scores = np.gradient(horizontal_avg_scores)\n",
    "    # Append a None value at the beginning and the end the array. To keep the same length\n",
    "    horizontal_dev_scores = np.insert(horizontal_dev_scores, 0, np.nan)\n",
    "    horizontal_dev_scores = np.append(horizontal_dev_scores, np.nan)\n",
    "\n",
    "    # List of images\n",
    "    horizontal_images = []\n",
    "\n",
    "    for i in range(len(horizontal_scores)):\n",
    "        if i < len(horizontal_scores)//2:\n",
    "            img_path = os.path.join(folder_dir, f'{folder_name}_left_{14-i}.jpg')\n",
    "        elif i == len(horizontal_scores)//2:\n",
    "            img_path = os.path.join(folder_dir, f'{folder_name}_center_{0}.jpg')\n",
    "        else:\n",
    "            img_path = os.path.join(folder_dir, f'{folder_name}_right_{i-16}.jpg')\n",
    "\n",
    "        if os.path.exists(img_path):\n",
    "            horizontal_images.append(img_path)\n",
    "        else:\n",
    "            horizontal_images.append(np.nan)"
   ]
  },
  {
   "cell_type": "code",
   "execution_count": null,
   "metadata": {},
   "outputs": [],
   "source": []
  }
 ],
 "metadata": {
  "kernelspec": {
   "display_name": "Python 3",
   "language": "python",
   "name": "python3"
  },
  "language_info": {
   "codemirror_mode": {
    "name": "ipython",
    "version": 3
   },
   "file_extension": ".py",
   "mimetype": "text/x-python",
   "name": "python",
   "nbconvert_exporter": "python",
   "pygments_lexer": "ipython3",
   "version": "3.8.17"
  }
 },
 "nbformat": 4,
 "nbformat_minor": 0
}
